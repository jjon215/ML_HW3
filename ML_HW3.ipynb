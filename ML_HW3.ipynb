{
  "nbformat": 4,
  "nbformat_minor": 0,
  "metadata": {
    "colab": {
      "name": "ML_HW3.ipynb",
      "version": "0.3.2",
      "provenance": [],
      "include_colab_link": true
    },
    "kernelspec": {
      "name": "python3",
      "display_name": "Python 3"
    },
    "accelerator": "GPU"
  },
  "cells": [
    {
      "cell_type": "markdown",
      "metadata": {
        "id": "view-in-github",
        "colab_type": "text"
      },
      "source": [
        "<a href=\"https://colab.research.google.com/github/jjon215/ML_HW3/blob/master/ML_HW3.ipynb\" target=\"_parent\"><img src=\"https://colab.research.google.com/assets/colab-badge.svg\" alt=\"Open In Colab\"/></a>"
      ]
    },
    {
      "metadata": {
        "id": "ng4dpKznWRCT",
        "colab_type": "code",
        "outputId": "7c389c9c-06d9-4544-a26e-cf16dcda59de",
        "colab": {
          "base_uri": "https://localhost:8080/",
          "height": 204
        }
      },
      "cell_type": "code",
      "source": [
        "!wget --no-check-certificate \\\n",
        "    https://storage.googleapis.com/mledu-datasets/cats_and_dogs_filtered.zip \\\n",
        "    -O /tmp/cats_and_dogs_filtered.zip"
      ],
      "execution_count": 0,
      "outputs": [
        {
          "output_type": "stream",
          "text": [
            "--2019-04-16 23:31:08--  https://storage.googleapis.com/mledu-datasets/cats_and_dogs_filtered.zip\n",
            "Resolving storage.googleapis.com (storage.googleapis.com)... 108.177.112.128, 2607:f8b0:4001:c03::80\n",
            "Connecting to storage.googleapis.com (storage.googleapis.com)|108.177.112.128|:443... connected.\n",
            "HTTP request sent, awaiting response... 200 OK\n",
            "Length: 68606236 (65M) [application/zip]\n",
            "Saving to: ‘/tmp/cats_and_dogs_filtered.zip’\n",
            "\n",
            "/tmp/cats_and_dogs_ 100%[===================>]  65.43M  78.8MB/s    in 0.8s    \n",
            "\n",
            "2019-04-16 23:31:09 (78.8 MB/s) - ‘/tmp/cats_and_dogs_filtered.zip’ saved [68606236/68606236]\n",
            "\n"
          ],
          "name": "stdout"
        }
      ]
    },
    {
      "metadata": {
        "id": "1k4TMG4uWpoA",
        "colab_type": "code",
        "colab": {}
      },
      "cell_type": "code",
      "source": [
        "import os\n",
        "import zipfile\n",
        "\n",
        "local_zip = '/tmp/cats_and_dogs_filtered.zip'\n",
        "zip_ref = zipfile.ZipFile(local_zip, 'r')\n",
        "zip_ref.extractall('/tmp')\n",
        "zip_ref.close()"
      ],
      "execution_count": 0,
      "outputs": []
    },
    {
      "metadata": {
        "id": "DU8oIkpaWwGc",
        "colab_type": "code",
        "colab": {}
      },
      "cell_type": "code",
      "source": [
        "base_dir = '/tmp/cats_and_dogs_filtered'\n",
        "train_dir = os.path.join(base_dir, 'train')\n",
        "validation_dir = os.path.join(base_dir, 'validation')\n",
        "\n",
        "# Directory with our training cat pictures\n",
        "train_cats_dir = os.path.join(train_dir, 'cats')\n",
        "\n",
        "# Directory with our training dog pictures\n",
        "train_dogs_dir = os.path.join(train_dir, 'dogs')\n",
        "\n",
        "# Directory with our validation cat pictures\n",
        "validation_cats_dir = os.path.join(validation_dir, 'cats')\n",
        "\n",
        "# Directory with our validation dog pictures\n",
        "validation_dogs_dir = os.path.join(validation_dir, 'dogs')"
      ],
      "execution_count": 0,
      "outputs": []
    },
    {
      "metadata": {
        "id": "_2rI6-SOW2ta",
        "colab_type": "code",
        "outputId": "9057521f-f4ea-4c04-e7c4-888e564f35a1",
        "colab": {
          "base_uri": "https://localhost:8080/",
          "height": 119
        }
      },
      "cell_type": "code",
      "source": [
        "from keras.applications import VGG19\n",
        "\n",
        "conv_base = VGG19(\n",
        "    weights='imagenet', \n",
        "    include_top=False, \n",
        "    input_shape=(150, 150, 3))"
      ],
      "execution_count": 0,
      "outputs": [
        {
          "output_type": "stream",
          "text": [
            "Using TensorFlow backend.\n"
          ],
          "name": "stderr"
        },
        {
          "output_type": "stream",
          "text": [
            "WARNING:tensorflow:From /usr/local/lib/python3.6/dist-packages/tensorflow/python/framework/op_def_library.py:263: colocate_with (from tensorflow.python.framework.ops) is deprecated and will be removed in a future version.\n",
            "Instructions for updating:\n",
            "Colocations handled automatically by placer.\n",
            "Downloading data from https://github.com/fchollet/deep-learning-models/releases/download/v0.1/vgg19_weights_tf_dim_ordering_tf_kernels_notop.h5\n",
            "80142336/80134624 [==============================] - 1s 0us/step\n"
          ],
          "name": "stdout"
        }
      ]
    },
    {
      "metadata": {
        "id": "YRB4-JgGW9Eg",
        "colab_type": "code",
        "colab": {}
      },
      "cell_type": "code",
      "source": [
        "conv_base.trainable = False"
      ],
      "execution_count": 0,
      "outputs": []
    },
    {
      "metadata": {
        "id": "XuTy1hHYXCsX",
        "colab_type": "code",
        "colab": {}
      },
      "cell_type": "code",
      "source": [
        "from keras import layers\n",
        "from keras import models\n",
        "from keras import optimizers\n",
        "\n",
        "model = models.Sequential()\n",
        "model.add(conv_base)\n",
        "model.add(layers.Flatten())\n",
        "model.add(layers.Dense(256, activation='relu'))\n",
        "#model.add(layers.Dropout(0.1))\n",
        "model.add(layers.Dense(1, activation='sigmoid'))"
      ],
      "execution_count": 0,
      "outputs": []
    },
    {
      "metadata": {
        "id": "s5k5bw0EXEVA",
        "colab_type": "code",
        "outputId": "17495cff-7720-4173-8cc2-c931782f78d7",
        "colab": {
          "base_uri": "https://localhost:8080/",
          "height": 272
        }
      },
      "cell_type": "code",
      "source": [
        "model.summary()"
      ],
      "execution_count": 0,
      "outputs": [
        {
          "output_type": "stream",
          "text": [
            "_________________________________________________________________\n",
            "Layer (type)                 Output Shape              Param #   \n",
            "=================================================================\n",
            "vgg19 (Model)                (None, 4, 4, 512)         20024384  \n",
            "_________________________________________________________________\n",
            "flatten_1 (Flatten)          (None, 8192)              0         \n",
            "_________________________________________________________________\n",
            "dense_1 (Dense)              (None, 256)               2097408   \n",
            "_________________________________________________________________\n",
            "dense_2 (Dense)              (None, 1)                 257       \n",
            "=================================================================\n",
            "Total params: 22,122,049\n",
            "Trainable params: 2,097,665\n",
            "Non-trainable params: 20,024,384\n",
            "_________________________________________________________________\n"
          ],
          "name": "stdout"
        }
      ]
    },
    {
      "metadata": {
        "id": "ffCAi_DEXKbC",
        "colab_type": "code",
        "outputId": "a0fb44fa-8d3a-40df-daa9-a8c905e32c50",
        "colab": {
          "base_uri": "https://localhost:8080/",
          "height": 1122
        }
      },
      "cell_type": "code",
      "source": [
        "from keras.preprocessing.image import ImageDataGenerator\n",
        "from keras import optimizers\n",
        "\n",
        "# data augmentation\n",
        "\n",
        "train_datagen = ImageDataGenerator(\n",
        "    rescale=1./255, \n",
        "    rotation_range=40,\n",
        "    width_shift_range=0.2,\n",
        "    height_shift_range=0.2,\n",
        "    shear_range=0.2,\n",
        "    zoom_range=0.2,\n",
        "    horizontal_flip=True,\n",
        "    fill_mode='nearest'\n",
        ")\n",
        "\n",
        "train_generator = train_datagen.flow_from_directory(\n",
        "    train_dir,\n",
        "    target_size=(150, 150),\n",
        "    batch_size=20,\n",
        "    class_mode='binary')\n",
        "\n",
        "validation_datagen = ImageDataGenerator(rescale=1./255)\n",
        "\n",
        "validation_generator = validation_datagen.flow_from_directory(\n",
        "    validation_dir,\n",
        "    target_size=(150, 150),\n",
        "    batch_size=20,\n",
        "    class_mode='binary')\n",
        "\n",
        "# compile model\n",
        "\n",
        "model.compile(\n",
        "    loss='binary_crossentropy', \n",
        "    optimizer=optimizers.RMSprop(lr=2e-5), \n",
        "    metrics=['acc'])\n",
        "\n",
        "# train\n",
        "\n",
        "history = model.fit_generator(\n",
        "    train_generator,\n",
        "    steps_per_epoch=100,\n",
        "    epochs=30,\n",
        "    validation_data=validation_generator,\n",
        "    validation_steps=50\n",
        ")"
      ],
      "execution_count": 0,
      "outputs": [
        {
          "output_type": "stream",
          "text": [
            "Found 2000 images belonging to 2 classes.\n",
            "Found 1000 images belonging to 2 classes.\n",
            "WARNING:tensorflow:From /usr/local/lib/python3.6/dist-packages/tensorflow/python/ops/math_ops.py:3066: to_int32 (from tensorflow.python.ops.math_ops) is deprecated and will be removed in a future version.\n",
            "Instructions for updating:\n",
            "Use tf.cast instead.\n",
            "Epoch 1/30\n",
            "100/100 [==============================] - 24s 235ms/step - loss: 0.6213 - acc: 0.6525 - val_loss: 0.5272 - val_acc: 0.7420\n",
            "Epoch 2/30\n",
            "100/100 [==============================] - 18s 180ms/step - loss: 0.5265 - acc: 0.7440 - val_loss: 0.4203 - val_acc: 0.8140\n",
            "Epoch 3/30\n",
            "100/100 [==============================] - 19s 189ms/step - loss: 0.4749 - acc: 0.7800 - val_loss: 0.3884 - val_acc: 0.8310\n",
            "Epoch 4/30\n",
            "100/100 [==============================] - 18s 181ms/step - loss: 0.4488 - acc: 0.7905 - val_loss: 0.3568 - val_acc: 0.8440\n",
            "Epoch 5/30\n",
            "100/100 [==============================] - 18s 181ms/step - loss: 0.4300 - acc: 0.8105 - val_loss: 0.3451 - val_acc: 0.8400\n",
            "Epoch 6/30\n",
            "100/100 [==============================] - 19s 194ms/step - loss: 0.4198 - acc: 0.8105 - val_loss: 0.3497 - val_acc: 0.8490\n",
            "Epoch 7/30\n",
            "100/100 [==============================] - 18s 181ms/step - loss: 0.3960 - acc: 0.8260 - val_loss: 0.3191 - val_acc: 0.8610\n",
            "Epoch 8/30\n",
            "100/100 [==============================] - 19s 188ms/step - loss: 0.3899 - acc: 0.8280 - val_loss: 0.3095 - val_acc: 0.8650\n",
            "Epoch 9/30\n",
            "100/100 [==============================] - 18s 180ms/step - loss: 0.3838 - acc: 0.8305 - val_loss: 0.3135 - val_acc: 0.8680\n",
            "Epoch 10/30\n",
            "100/100 [==============================] - 18s 178ms/step - loss: 0.3719 - acc: 0.8330 - val_loss: 0.2959 - val_acc: 0.8680\n",
            "Epoch 11/30\n",
            "100/100 [==============================] - 18s 183ms/step - loss: 0.3703 - acc: 0.8355 - val_loss: 0.2984 - val_acc: 0.8750\n",
            "Epoch 12/30\n",
            "100/100 [==============================] - 19s 191ms/step - loss: 0.3534 - acc: 0.8510 - val_loss: 0.2885 - val_acc: 0.8780\n",
            "Epoch 13/30\n",
            "100/100 [==============================] - 18s 179ms/step - loss: 0.3511 - acc: 0.8465 - val_loss: 0.2865 - val_acc: 0.8760\n",
            "Epoch 14/30\n",
            "100/100 [==============================] - 18s 178ms/step - loss: 0.3541 - acc: 0.8430 - val_loss: 0.3185 - val_acc: 0.8480\n",
            "Epoch 15/30\n",
            "100/100 [==============================] - 18s 179ms/step - loss: 0.3630 - acc: 0.8430 - val_loss: 0.2797 - val_acc: 0.8810\n",
            "Epoch 16/30\n",
            "100/100 [==============================] - 18s 183ms/step - loss: 0.3474 - acc: 0.8480 - val_loss: 0.2748 - val_acc: 0.8800\n",
            "Epoch 17/30\n",
            "100/100 [==============================] - 18s 183ms/step - loss: 0.3550 - acc: 0.8410 - val_loss: 0.2745 - val_acc: 0.8770\n",
            "Epoch 18/30\n",
            "100/100 [==============================] - 18s 179ms/step - loss: 0.3398 - acc: 0.8490 - val_loss: 0.2975 - val_acc: 0.8680\n",
            "Epoch 19/30\n",
            "100/100 [==============================] - 18s 178ms/step - loss: 0.3355 - acc: 0.8525 - val_loss: 0.2689 - val_acc: 0.8810\n",
            "Epoch 20/30\n",
            "100/100 [==============================] - 18s 179ms/step - loss: 0.3361 - acc: 0.8505 - val_loss: 0.2709 - val_acc: 0.8850\n",
            "Epoch 21/30\n",
            "100/100 [==============================] - 19s 190ms/step - loss: 0.3384 - acc: 0.8490 - val_loss: 0.3199 - val_acc: 0.8640\n",
            "Epoch 22/30\n",
            "100/100 [==============================] - 18s 178ms/step - loss: 0.3292 - acc: 0.8590 - val_loss: 0.2766 - val_acc: 0.8830\n",
            "Epoch 23/30\n",
            "100/100 [==============================] - 19s 192ms/step - loss: 0.3250 - acc: 0.8540 - val_loss: 0.2643 - val_acc: 0.8870\n",
            "Epoch 24/30\n",
            "100/100 [==============================] - 18s 178ms/step - loss: 0.3247 - acc: 0.8485 - val_loss: 0.2635 - val_acc: 0.8850\n",
            "Epoch 25/30\n",
            "100/100 [==============================] - 19s 188ms/step - loss: 0.3220 - acc: 0.8630 - val_loss: 0.2706 - val_acc: 0.8770\n",
            "Epoch 26/30\n",
            "100/100 [==============================] - 18s 179ms/step - loss: 0.3243 - acc: 0.8510 - val_loss: 0.2831 - val_acc: 0.8740\n",
            "Epoch 27/30\n",
            "100/100 [==============================] - 18s 181ms/step - loss: 0.3298 - acc: 0.8505 - val_loss: 0.2614 - val_acc: 0.8900\n",
            "Epoch 28/30\n",
            "100/100 [==============================] - 18s 179ms/step - loss: 0.3178 - acc: 0.8675 - val_loss: 0.2638 - val_acc: 0.8890\n",
            "Epoch 29/30\n",
            "100/100 [==============================] - 18s 178ms/step - loss: 0.3149 - acc: 0.8630 - val_loss: 0.2596 - val_acc: 0.8870\n",
            "Epoch 30/30\n",
            "100/100 [==============================] - 19s 189ms/step - loss: 0.3205 - acc: 0.8640 - val_loss: 0.2756 - val_acc: 0.8780\n"
          ],
          "name": "stdout"
        }
      ]
    },
    {
      "metadata": {
        "id": "VdZcnMUzYPa5",
        "colab_type": "code",
        "outputId": "cdb57de7-1fea-46a7-f223-57963282579b",
        "colab": {
          "base_uri": "https://localhost:8080/",
          "height": 545
        }
      },
      "cell_type": "code",
      "source": [
        "%matplotlib inline\n",
        "\n",
        "import matplotlib.pyplot as plt\n",
        "\n",
        "acc = history.history['acc']\n",
        "val_acc = history.history['val_acc']\n",
        "\n",
        "loss = history.history['loss']\n",
        "val_loss = history.history['val_loss']\n",
        "\n",
        "epochs = range(1, len(acc) + 1)\n",
        "\n",
        "# training and validation accuracy\n",
        "\n",
        "plt.plot(epochs, acc, 'bo', label='training acc')\n",
        "plt.plot(epochs, val_acc, 'b', label='validation acc')\n",
        "plt.title('training and validation accuracy')\n",
        "plt.legend()\n",
        "\n",
        "plt.figure()\n",
        "\n",
        "# training and validation loss\n",
        "\n",
        "plt.plot(epochs, loss, 'bo', label='training loss')\n",
        "plt.plot(epochs, val_loss, 'b', label='validation loss')\n",
        "plt.title('training and validation loss')\n",
        "plt.legend()\n",
        "\n",
        "plt.show()"
      ],
      "execution_count": 0,
      "outputs": [
        {
          "output_type": "display_data",
          "data": {
            "image/png": "[encoded data removed]",
            "text/plain": [
              "<Figure size 432x288 with 1 Axes>"
            ]
          },
          "metadata": {
            "tags": []
          }
        },
        {
          "output_type": "display_data",
          "data": {
            "image/png": "[encoded data removed]",
            "text/plain": [
              "<Figure size 432x288 with 1 Axes>"
            ]
          },
          "metadata": {
            "tags": []
          }
        }
      ]
    },
    {
      "metadata": {
        "id": "J8fmGrkuY7Q4",
        "colab_type": "code",
        "colab": {}
      },
      "cell_type": "code",
      "source": [
        "conv_base.trainable = True\n",
        "\n",
        "set_trainable = False\n",
        "for layer in conv_base.layers:\n",
        "  if layer.name == 'block5_conv1':\n",
        "    set_trainable = True\n",
        "  if set_trainable:\n",
        "    layer.trainable = True\n",
        "  else:\n",
        "    layer.trainable = False"
      ],
      "execution_count": 0,
      "outputs": []
    },
    {
      "metadata": {
        "id": "Bqw7kofbY8Gm",
        "colab_type": "code",
        "outputId": "769f4a29-5440-46e0-dea1-db7b3ecd19a3",
        "colab": {
          "base_uri": "https://localhost:8080/",
          "height": 3417
        }
      },
      "cell_type": "code",
      "source": [
        "# compile model\n",
        "\n",
        "model.compile(\n",
        "    loss='binary_crossentropy',\n",
        "    #\n",
        "    # choose a smaller learning rate\n",
        "    #\n",
        "    optimizer=optimizers.RMSprop(lr=1e-5), \n",
        "    metrics=['acc'])\n",
        "\n",
        "# train\n",
        "\n",
        "history = model.fit_generator(\n",
        "    train_generator,\n",
        "    steps_per_epoch=100,\n",
        "    epochs=100,\n",
        "    validation_data=validation_generator,\n",
        "    validation_steps=50)"
      ],
      "execution_count": 0,
      "outputs": [
        {
          "output_type": "stream",
          "text": [
            "Epoch 1/100\n",
            "100/100 [==============================] - 21s 207ms/step - loss: 0.3373 - acc: 0.8440 - val_loss: 0.2424 - val_acc: 0.8970\n",
            "Epoch 2/100\n",
            "100/100 [==============================] - 19s 186ms/step - loss: 0.2888 - acc: 0.8790 - val_loss: 0.2389 - val_acc: 0.9110\n",
            "Epoch 3/100\n",
            "100/100 [==============================] - 19s 186ms/step - loss: 0.2720 - acc: 0.8925 - val_loss: 0.2047 - val_acc: 0.9140\n",
            "Epoch 4/100\n",
            "100/100 [==============================] - 20s 198ms/step - loss: 0.2383 - acc: 0.8990 - val_loss: 0.2155 - val_acc: 0.9120\n",
            "Epoch 5/100\n",
            "100/100 [==============================] - 19s 185ms/step - loss: 0.2040 - acc: 0.9205 - val_loss: 0.2723 - val_acc: 0.8970\n",
            "Epoch 6/100\n",
            "100/100 [==============================] - 18s 185ms/step - loss: 0.2232 - acc: 0.8980 - val_loss: 0.2807 - val_acc: 0.8990\n",
            "Epoch 7/100\n",
            "100/100 [==============================] - 19s 186ms/step - loss: 0.1841 - acc: 0.9260 - val_loss: 0.2321 - val_acc: 0.9210\n",
            "Epoch 8/100\n",
            "100/100 [==============================] - 20s 198ms/step - loss: 0.1724 - acc: 0.9265 - val_loss: 0.1829 - val_acc: 0.9240\n",
            "Epoch 9/100\n",
            "100/100 [==============================] - 19s 189ms/step - loss: 0.1698 - acc: 0.9385 - val_loss: 0.1675 - val_acc: 0.9350\n",
            "Epoch 10/100\n",
            "100/100 [==============================] - 19s 193ms/step - loss: 0.1491 - acc: 0.9365 - val_loss: 0.1980 - val_acc: 0.9340\n",
            "Epoch 11/100\n",
            "100/100 [==============================] - 19s 186ms/step - loss: 0.1486 - acc: 0.9420 - val_loss: 0.1563 - val_acc: 0.9420\n",
            "Epoch 12/100\n",
            "100/100 [==============================] - 19s 194ms/step - loss: 0.1346 - acc: 0.9490 - val_loss: 0.1876 - val_acc: 0.9300\n",
            "Epoch 13/100\n",
            "100/100 [==============================] - 19s 189ms/step - loss: 0.1452 - acc: 0.9410 - val_loss: 0.1985 - val_acc: 0.9340\n",
            "Epoch 14/100\n",
            "100/100 [==============================] - 19s 187ms/step - loss: 0.1302 - acc: 0.9455 - val_loss: 0.2189 - val_acc: 0.9370\n",
            "Epoch 15/100\n",
            "100/100 [==============================] - 18s 185ms/step - loss: 0.1217 - acc: 0.9535 - val_loss: 0.2533 - val_acc: 0.9160\n",
            "Epoch 16/100\n",
            "100/100 [==============================] - 18s 184ms/step - loss: 0.1115 - acc: 0.9570 - val_loss: 0.2046 - val_acc: 0.9300\n",
            "Epoch 17/100\n",
            "100/100 [==============================] - 19s 195ms/step - loss: 0.1181 - acc: 0.9530 - val_loss: 0.1862 - val_acc: 0.9400\n",
            "Epoch 18/100\n",
            "100/100 [==============================] - 19s 185ms/step - loss: 0.1029 - acc: 0.9575 - val_loss: 0.2602 - val_acc: 0.9360\n",
            "Epoch 19/100\n",
            "100/100 [==============================] - 19s 185ms/step - loss: 0.0955 - acc: 0.9610 - val_loss: 0.4704 - val_acc: 0.8940\n",
            "Epoch 20/100\n",
            "100/100 [==============================] - 19s 185ms/step - loss: 0.1025 - acc: 0.9600 - val_loss: 0.3011 - val_acc: 0.9180\n",
            "Epoch 21/100\n",
            "100/100 [==============================] - 20s 197ms/step - loss: 0.0973 - acc: 0.9610 - val_loss: 0.1898 - val_acc: 0.9400\n",
            "Epoch 22/100\n",
            "100/100 [==============================] - 18s 185ms/step - loss: 0.0854 - acc: 0.9675 - val_loss: 0.1940 - val_acc: 0.9400\n",
            "Epoch 23/100\n",
            "100/100 [==============================] - 18s 184ms/step - loss: 0.0942 - acc: 0.9605 - val_loss: 0.3102 - val_acc: 0.9110\n",
            "Epoch 24/100\n",
            "100/100 [==============================] - 18s 184ms/step - loss: 0.0871 - acc: 0.9695 - val_loss: 0.1956 - val_acc: 0.9470\n",
            "Epoch 25/100\n",
            "100/100 [==============================] - 20s 196ms/step - loss: 0.0802 - acc: 0.9705 - val_loss: 0.2077 - val_acc: 0.9400\n",
            "Epoch 26/100\n",
            "100/100 [==============================] - 20s 200ms/step - loss: 0.0907 - acc: 0.9650 - val_loss: 0.1939 - val_acc: 0.9460\n",
            "Epoch 27/100\n",
            "100/100 [==============================] - 18s 185ms/step - loss: 0.0659 - acc: 0.9750 - val_loss: 0.3624 - val_acc: 0.9020\n",
            "Epoch 28/100\n",
            "100/100 [==============================] - 18s 184ms/step - loss: 0.0820 - acc: 0.9695 - val_loss: 0.2250 - val_acc: 0.9390\n",
            "Epoch 29/100\n",
            "100/100 [==============================] - 19s 190ms/step - loss: 0.0770 - acc: 0.9715 - val_loss: 0.2313 - val_acc: 0.9400\n",
            "Epoch 30/100\n",
            "100/100 [==============================] - 19s 193ms/step - loss: 0.0637 - acc: 0.9755 - val_loss: 0.1920 - val_acc: 0.9480\n",
            "Epoch 31/100\n",
            "100/100 [==============================] - 18s 185ms/step - loss: 0.0757 - acc: 0.9720 - val_loss: 0.2621 - val_acc: 0.9290\n",
            "Epoch 32/100\n",
            "100/100 [==============================] - 18s 185ms/step - loss: 0.0660 - acc: 0.9730 - val_loss: 0.2511 - val_acc: 0.9370\n",
            "Epoch 33/100\n",
            "100/100 [==============================] - 18s 184ms/step - loss: 0.0689 - acc: 0.9740 - val_loss: 0.2379 - val_acc: 0.9350\n",
            "Epoch 34/100\n",
            "100/100 [==============================] - 20s 195ms/step - loss: 0.0565 - acc: 0.9780 - val_loss: 0.4384 - val_acc: 0.9040\n",
            "Epoch 35/100\n",
            "100/100 [==============================] - 18s 184ms/step - loss: 0.0568 - acc: 0.9790 - val_loss: 0.2130 - val_acc: 0.9470\n",
            "Epoch 36/100\n",
            "100/100 [==============================] - 18s 183ms/step - loss: 0.0503 - acc: 0.9810 - val_loss: 0.2052 - val_acc: 0.9480\n",
            "Epoch 37/100\n",
            "100/100 [==============================] - 18s 185ms/step - loss: 0.0567 - acc: 0.9795 - val_loss: 0.2275 - val_acc: 0.9410\n",
            "Epoch 38/100\n",
            "100/100 [==============================] - 20s 197ms/step - loss: 0.0579 - acc: 0.9785 - val_loss: 0.2363 - val_acc: 0.9400\n",
            "Epoch 39/100\n",
            "100/100 [==============================] - 18s 185ms/step - loss: 0.0602 - acc: 0.9775 - val_loss: 0.2210 - val_acc: 0.9450\n",
            "Epoch 40/100\n",
            "100/100 [==============================] - 18s 184ms/step - loss: 0.0461 - acc: 0.9835 - val_loss: 0.2169 - val_acc: 0.9490\n",
            "Epoch 41/100\n",
            "100/100 [==============================] - 18s 184ms/step - loss: 0.0517 - acc: 0.9765 - val_loss: 0.2643 - val_acc: 0.9410\n",
            "Epoch 42/100\n",
            "100/100 [==============================] - 19s 194ms/step - loss: 0.0612 - acc: 0.9795 - val_loss: 0.1620 - val_acc: 0.9560\n",
            "Epoch 43/100\n",
            "100/100 [==============================] - 19s 192ms/step - loss: 0.0420 - acc: 0.9825 - val_loss: 0.2604 - val_acc: 0.9330\n",
            "Epoch 44/100\n",
            "100/100 [==============================] - 18s 184ms/step - loss: 0.0470 - acc: 0.9840 - val_loss: 0.1980 - val_acc: 0.9440\n",
            "Epoch 45/100\n",
            "100/100 [==============================] - 18s 184ms/step - loss: 0.0491 - acc: 0.9855 - val_loss: 0.3064 - val_acc: 0.9330\n",
            "Epoch 46/100\n",
            "100/100 [==============================] - 19s 194ms/step - loss: 0.0504 - acc: 0.9825 - val_loss: 0.2328 - val_acc: 0.9490\n",
            "Epoch 47/100\n",
            "100/100 [==============================] - 19s 192ms/step - loss: 0.0403 - acc: 0.9865 - val_loss: 0.2201 - val_acc: 0.9490\n",
            "Epoch 48/100\n",
            "100/100 [==============================] - 18s 185ms/step - loss: 0.0391 - acc: 0.9835 - val_loss: 0.2767 - val_acc: 0.9350\n",
            "Epoch 49/100\n",
            "100/100 [==============================] - 18s 185ms/step - loss: 0.0406 - acc: 0.9830 - val_loss: 0.2889 - val_acc: 0.9290\n",
            "Epoch 50/100\n",
            "100/100 [==============================] - 18s 185ms/step - loss: 0.0356 - acc: 0.9875 - val_loss: 0.2437 - val_acc: 0.9460\n",
            "Epoch 51/100\n",
            "100/100 [==============================] - 20s 197ms/step - loss: 0.0567 - acc: 0.9835 - val_loss: 0.2635 - val_acc: 0.9450\n",
            "Epoch 52/100\n",
            "100/100 [==============================] - 18s 185ms/step - loss: 0.0274 - acc: 0.9905 - val_loss: 0.2450 - val_acc: 0.9450\n",
            "Epoch 53/100\n",
            "100/100 [==============================] - 19s 185ms/step - loss: 0.0427 - acc: 0.9865 - val_loss: 0.3392 - val_acc: 0.9340\n",
            "Epoch 54/100\n",
            "100/100 [==============================] - 19s 185ms/step - loss: 0.0397 - acc: 0.9880 - val_loss: 0.2075 - val_acc: 0.9510\n",
            "Epoch 55/100\n",
            "100/100 [==============================] - 20s 197ms/step - loss: 0.0378 - acc: 0.9870 - val_loss: 0.2601 - val_acc: 0.9410\n",
            "Epoch 56/100\n",
            "100/100 [==============================] - 19s 185ms/step - loss: 0.0306 - acc: 0.9885 - val_loss: 0.2623 - val_acc: 0.9420\n",
            "Epoch 57/100\n",
            "100/100 [==============================] - 19s 186ms/step - loss: 0.0441 - acc: 0.9860 - val_loss: 0.2424 - val_acc: 0.9540\n",
            "Epoch 58/100\n",
            "100/100 [==============================] - 18s 185ms/step - loss: 0.0295 - acc: 0.9880 - val_loss: 0.4164 - val_acc: 0.9110\n",
            "Epoch 59/100\n",
            "100/100 [==============================] - 20s 204ms/step - loss: 0.0345 - acc: 0.9870 - val_loss: 0.2171 - val_acc: 0.9470\n",
            "Epoch 60/100\n",
            "100/100 [==============================] - 19s 188ms/step - loss: 0.0418 - acc: 0.9855 - val_loss: 0.2404 - val_acc: 0.9430\n",
            "Epoch 61/100\n",
            "100/100 [==============================] - 19s 186ms/step - loss: 0.0344 - acc: 0.9890 - val_loss: 0.2874 - val_acc: 0.9450\n",
            "Epoch 62/100\n",
            "100/100 [==============================] - 19s 193ms/step - loss: 0.0338 - acc: 0.9885 - val_loss: 0.3912 - val_acc: 0.9210\n",
            "Epoch 63/100\n",
            "100/100 [==============================] - 19s 188ms/step - loss: 0.0314 - acc: 0.9870 - val_loss: 0.3730 - val_acc: 0.9340\n",
            "Epoch 64/100\n",
            "100/100 [==============================] - 20s 196ms/step - loss: 0.0375 - acc: 0.9870 - val_loss: 0.3454 - val_acc: 0.9260\n",
            "Epoch 65/100\n",
            "100/100 [==============================] - 19s 187ms/step - loss: 0.0355 - acc: 0.9880 - val_loss: 0.2862 - val_acc: 0.9340\n",
            "Epoch 66/100\n",
            "100/100 [==============================] - 19s 187ms/step - loss: 0.0306 - acc: 0.9910 - val_loss: 0.2583 - val_acc: 0.9470\n",
            "Epoch 67/100\n",
            "100/100 [==============================] - 19s 187ms/step - loss: 0.0291 - acc: 0.9920 - val_loss: 0.3208 - val_acc: 0.9400\n",
            "Epoch 68/100\n",
            "100/100 [==============================] - 20s 200ms/step - loss: 0.0350 - acc: 0.9875 - val_loss: 0.2780 - val_acc: 0.9450\n",
            "Epoch 69/100\n",
            "100/100 [==============================] - 19s 188ms/step - loss: 0.0248 - acc: 0.9920 - val_loss: 0.2701 - val_acc: 0.9360\n",
            "Epoch 70/100\n",
            "100/100 [==============================] - 19s 187ms/step - loss: 0.0276 - acc: 0.9910 - val_loss: 0.2214 - val_acc: 0.9480\n",
            "Epoch 71/100\n",
            "100/100 [==============================] - 19s 187ms/step - loss: 0.0330 - acc: 0.9915 - val_loss: 0.3112 - val_acc: 0.9420\n",
            "Epoch 72/100\n",
            "100/100 [==============================] - 20s 201ms/step - loss: 0.0245 - acc: 0.9895 - val_loss: 0.2710 - val_acc: 0.9480\n",
            "Epoch 73/100\n",
            "100/100 [==============================] - 19s 187ms/step - loss: 0.0174 - acc: 0.9940 - val_loss: 0.2578 - val_acc: 0.9530\n",
            "Epoch 74/100\n",
            "100/100 [==============================] - 19s 187ms/step - loss: 0.0378 - acc: 0.9880 - val_loss: 0.3013 - val_acc: 0.9430\n",
            "Epoch 75/100\n",
            "100/100 [==============================] - 20s 198ms/step - loss: 0.0318 - acc: 0.9890 - val_loss: 0.2414 - val_acc: 0.9540\n",
            "Epoch 76/100\n",
            "100/100 [==============================] - 20s 199ms/step - loss: 0.0241 - acc: 0.9925 - val_loss: 0.3241 - val_acc: 0.9420\n",
            "Epoch 77/100\n",
            "100/100 [==============================] - 19s 187ms/step - loss: 0.0298 - acc: 0.9920 - val_loss: 0.3147 - val_acc: 0.9280\n",
            "Epoch 78/100\n",
            "100/100 [==============================] - 19s 194ms/step - loss: 0.0335 - acc: 0.9910 - val_loss: 0.3473 - val_acc: 0.9390\n",
            "Epoch 79/100\n",
            "100/100 [==============================] - 19s 186ms/step - loss: 0.0252 - acc: 0.9930 - val_loss: 0.3879 - val_acc: 0.9200\n",
            "Epoch 80/100\n",
            "100/100 [==============================] - 19s 193ms/step - loss: 0.0260 - acc: 0.9890 - val_loss: 0.2335 - val_acc: 0.9490\n",
            "Epoch 81/100\n",
            "100/100 [==============================] - 19s 190ms/step - loss: 0.0273 - acc: 0.9925 - val_loss: 0.3035 - val_acc: 0.9460\n",
            "Epoch 82/100\n",
            "100/100 [==============================] - 19s 186ms/step - loss: 0.0205 - acc: 0.9930 - val_loss: 0.3008 - val_acc: 0.9510\n",
            "Epoch 83/100\n",
            "100/100 [==============================] - 19s 186ms/step - loss: 0.0232 - acc: 0.9930 - val_loss: 0.3241 - val_acc: 0.9410\n",
            "Epoch 84/100\n",
            "100/100 [==============================] - 19s 186ms/step - loss: 0.0174 - acc: 0.9945 - val_loss: 0.3037 - val_acc: 0.9500\n",
            "Epoch 85/100\n",
            "100/100 [==============================] - 20s 196ms/step - loss: 0.0189 - acc: 0.9940 - val_loss: 0.3399 - val_acc: 0.9410\n",
            "Epoch 86/100\n",
            "100/100 [==============================] - 19s 186ms/step - loss: 0.0209 - acc: 0.9930 - val_loss: 0.2576 - val_acc: 0.9510\n",
            "Epoch 87/100\n",
            "100/100 [==============================] - 19s 187ms/step - loss: 0.0159 - acc: 0.9945 - val_loss: 0.3789 - val_acc: 0.9360\n",
            "Epoch 88/100\n",
            "100/100 [==============================] - 19s 186ms/step - loss: 0.0212 - acc: 0.9940 - val_loss: 0.3491 - val_acc: 0.9390\n",
            "Epoch 89/100\n",
            "100/100 [==============================] - 20s 200ms/step - loss: 0.0237 - acc: 0.9905 - val_loss: 0.3582 - val_acc: 0.9330\n",
            "Epoch 90/100\n",
            "100/100 [==============================] - 19s 186ms/step - loss: 0.0245 - acc: 0.9920 - val_loss: 0.3109 - val_acc: 0.9470\n",
            "Epoch 91/100\n",
            "100/100 [==============================] - 19s 189ms/step - loss: 0.0211 - acc: 0.9915 - val_loss: 0.2782 - val_acc: 0.9500\n",
            "Epoch 92/100\n",
            "100/100 [==============================] - 20s 197ms/step - loss: 0.0173 - acc: 0.9960 - val_loss: 0.3325 - val_acc: 0.9420\n",
            "Epoch 93/100\n",
            "100/100 [==============================] - 20s 199ms/step - loss: 0.0287 - acc: 0.9915 - val_loss: 0.3005 - val_acc: 0.9470\n",
            "Epoch 94/100\n",
            "100/100 [==============================] - 19s 194ms/step - loss: 0.0219 - acc: 0.9930 - val_loss: 0.6064 - val_acc: 0.9080\n",
            "Epoch 95/100\n",
            "100/100 [==============================] - 19s 186ms/step - loss: 0.0203 - acc: 0.9905 - val_loss: 0.3374 - val_acc: 0.9460\n",
            "Epoch 96/100\n",
            "100/100 [==============================] - 19s 186ms/step - loss: 0.0234 - acc: 0.9930 - val_loss: 0.2405 - val_acc: 0.9590\n",
            "Epoch 97/100\n",
            "100/100 [==============================] - 20s 196ms/step - loss: 0.0149 - acc: 0.9950 - val_loss: 0.2913 - val_acc: 0.9500\n",
            "Epoch 98/100\n",
            "100/100 [==============================] - 19s 188ms/step - loss: 0.0256 - acc: 0.9910 - val_loss: 0.4176 - val_acc: 0.9330\n",
            "Epoch 99/100\n",
            "100/100 [==============================] - 19s 187ms/step - loss: 0.0175 - acc: 0.9930 - val_loss: 0.2748 - val_acc: 0.9480\n",
            "Epoch 100/100\n",
            "100/100 [==============================] - 19s 187ms/step - loss: 0.0162 - acc: 0.9955 - val_loss: 0.3577 - val_acc: 0.9370\n"
          ],
          "name": "stdout"
        }
      ]
    },
    {
      "metadata": {
        "id": "lefsP9bRY-Wa",
        "colab_type": "code",
        "outputId": "67862ab3-9a29-4890-b131-70e0fa02dc1d",
        "colab": {
          "base_uri": "https://localhost:8080/",
          "height": 545
        }
      },
      "cell_type": "code",
      "source": [
        "%matplotlib inline\n",
        "\n",
        "import matplotlib.pyplot as plt\n",
        "\n",
        "acc = history.history['acc']\n",
        "val_acc = history.history['val_acc']\n",
        "\n",
        "loss = history.history['loss']\n",
        "val_loss = history.history['val_loss']\n",
        "\n",
        "epochs = range(1, len(acc) + 1)\n",
        "\n",
        "# training and validation accuracy\n",
        "\n",
        "plt.plot(epochs, acc, 'bo', label='training acc')\n",
        "plt.plot(epochs, val_acc, 'b', label='validation acc')\n",
        "plt.title('training and validation accuracy')\n",
        "plt.legend()\n",
        "\n",
        "plt.figure()\n",
        "\n",
        "# training and validation loss\n",
        "\n",
        "plt.plot(epochs, loss, 'bo', label='training loss')\n",
        "plt.plot(epochs, val_loss, 'b', label='validation loss')\n",
        "plt.title('training and validation loss')\n",
        "plt.legend()\n",
        "\n",
        "plt.show()"
      ],
      "execution_count": 0,
      "outputs": [
        {
          "output_type": "display_data",
          "data": {
            "image/png": "[encoded data removed]",
            "text/plain": [
              "<Figure size 432x288 with 1 Axes>"
            ]
          },
          "metadata": {
            "tags": []
          }
        },
        {
          "output_type": "display_data",
          "data": {
            "image/png": "[encoded data removed]",
            "text/plain": [
              "<Figure size 432x288 with 1 Axes>"
            ]
          },
          "metadata": {
            "tags": []
          }
        }
      ]
    },
    {
      "metadata": {
        "id": "5Q1K8OeiZA2c",
        "colab_type": "code",
        "outputId": "8fd8d61b-2cfd-4e0b-bff6-25aa69b80d4b",
        "colab": {
          "base_uri": "https://localhost:8080/",
          "height": 71
        }
      },
      "cell_type": "code",
      "source": [
        "print(\"Validation loss:\", val_loss)\n",
        "print(\"Validation accuracy:\", val_acc)"
      ],
      "execution_count": 0,
      "outputs": [
        {
          "output_type": "stream",
          "text": [
            "Validation loss: [0.24244084522128106, 0.2389088820666075, 0.20473613053560258, 0.21550736717879773, 0.27227805465459826, 0.28074007088318464, 0.23210954474285245, 0.18294781317934394, 0.16752739375457168, 0.19795036159455776, 0.15625871675089, 0.18756863191723824, 0.19850529052782803, 0.21893931981176137, 0.2532746235094965, 0.2046376599452924, 0.18619090211577713, 0.2602474535210058, 0.470429697483778, 0.3010789353679866, 0.18976864639669658, 0.1940144483372569, 0.3101909606344998, 0.1956000992306508, 0.20767129650339483, 0.1939284863229841, 0.3623783544776961, 0.22504874407895842, 0.23129201153526083, 0.19195508351782337, 0.2621137403184548, 0.251070873523131, 0.2379107531075715, 0.43837049340480005, 0.21303141995187616, 0.20517764182994142, 0.22754313418758101, 0.2362870550871594, 0.22104522112524136, 0.2169325852568727, 0.26429364133266064, 0.1619886251038406, 0.2604298284603283, 0.197983053564094, 0.306414996527019, 0.23277871411526577, 0.22007964532938787, 0.27665112614631654, 0.2889114332897589, 0.24374873556931562, 0.2634507941923948, 0.244994688265524, 0.3391808251524344, 0.20753519501335177, 0.2600720541074406, 0.26228017974113754, 0.242412459240295, 0.41639290406368673, 0.21709871002636646, 0.24043526414738153, 0.2873608315968886, 0.3911735165086975, 0.3729541737807449, 0.345399723633127, 0.28616690000344536, 0.25825831799003934, 0.3207603047662269, 0.27797623730568377, 0.2701070952715963, 0.22144119278469587, 0.31118442156366655, 0.270970868273871, 0.25779994673182954, 0.30132780442640067, 0.2414474984885601, 0.3241212318943144, 0.3146645132940921, 0.34729868305771333, 0.3879033921367954, 0.23348739066705093, 0.30348094672133813, 0.30078885634182373, 0.3241203573644361, 0.3037172110992333, 0.33988253258983603, 0.2576402261025032, 0.37887163814419184, 0.3491205982540123, 0.3581720272445273, 0.3108976910977651, 0.27824843293383994, 0.33253570522018777, 0.3005329704954056, 0.6063825503559201, 0.3374332093318844, 0.24046344716538443, 0.2913451813948086, 0.4175977353388589, 0.27476148899728287, 0.3577060748816075]\n",
            "Validation accuracy: [0.8969999969005584, 0.9109999966621399, 0.913999993801117, 0.9119999980926514, 0.8969999969005584, 0.8989999949932098, 0.9209999942779541, 0.923999993801117, 0.9349999916553497, 0.9339999890327454, 0.941999990940094, 0.9299999916553497, 0.9339999914169311, 0.9369999945163727, 0.9159999918937684, 0.9299999916553497, 0.9399999904632569, 0.9359999918937683, 0.8939999973773957, 0.9179999947547912, 0.9399999940395355, 0.9399999928474426, 0.910999995470047, 0.9469999945163727, 0.9399999916553498, 0.9459999918937683, 0.9019999980926514, 0.938999993801117, 0.9399999892711639, 0.9479999911785125, 0.9289999961853027, 0.9369999921321869, 0.9349999916553497, 0.9039999890327454, 0.946999990940094, 0.9479999899864197, 0.9409999907016754, 0.9399999952316285, 0.9449999940395355, 0.948999992609024, 0.9409999907016754, 0.9559999907016754, 0.9329999947547912, 0.9439999914169311, 0.9329999935626984, 0.948999993801117, 0.9489999949932099, 0.9349999928474426, 0.928999993801117, 0.9459999907016754, 0.9449999916553498, 0.9449999904632569, 0.933999992609024, 0.9509999930858613, 0.9409999918937683, 0.9419999945163727, 0.9539999914169311, 0.9109999918937683, 0.9469999921321869, 0.9429999947547912, 0.9449999940395355, 0.9209999930858612, 0.9339999914169311, 0.9259999895095825, 0.933999993801117, 0.9469999933242798, 0.9399999940395355, 0.9449999904632569, 0.9359999930858612, 0.9479999911785125, 0.9419999933242797, 0.9479999923706055, 0.9529999923706055, 0.9429999935626984, 0.9539999902248383, 0.9419999933242797, 0.9279999911785126, 0.9389999914169311, 0.9199999940395355, 0.948999993801117, 0.9459999930858612, 0.9509999942779541, 0.9409999942779541, 0.9499999940395355, 0.9409999930858612, 0.9509999930858613, 0.9359999930858612, 0.938999993801117, 0.9329999923706055, 0.9469999885559082, 0.9499999940395355, 0.941999990940094, 0.946999990940094, 0.9079999923706055, 0.9459999942779541, 0.9589999938011169, 0.9499999928474426, 0.9329999911785126, 0.9479999899864197, 0.9369999921321869]\n"
          ],
          "name": "stdout"
        }
      ]
    }
  ]
}